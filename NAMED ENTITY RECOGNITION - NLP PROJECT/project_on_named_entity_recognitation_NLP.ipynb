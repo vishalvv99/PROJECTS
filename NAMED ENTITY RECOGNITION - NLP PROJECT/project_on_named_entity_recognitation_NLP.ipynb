{
  "nbformat": 4,
  "nbformat_minor": 0,
  "metadata": {
    "colab": {
      "provenance": [],
      "authorship_tag": "ABX9TyMsvHZuNWQGpO7jvNNfe47T",
      "include_colab_link": true
    },
    "kernelspec": {
      "name": "python3",
      "display_name": "Python 3"
    },
    "language_info": {
      "name": "python"
    }
  },
  "cells": [
    {
      "cell_type": "markdown",
      "metadata": {
        "id": "view-in-github",
        "colab_type": "text"
      },
      "source": [
        "<a href=\"https://colab.research.google.com/github/vishalvv99/NLP/blob/main/project_on_named_entity_recognitation_NLP.ipynb\" target=\"_parent\"><img src=\"https://colab.research.google.com/assets/colab-badge.svg\" alt=\"Open In Colab\"/></a>"
      ]
    },
    {
      "cell_type": "code",
      "execution_count": null,
      "metadata": {
        "id": "zqNbRTmfelan"
      },
      "outputs": [],
      "source": [
        "!pip install -U spacy\n",
        "!python -m spacy download en_core_web_lg\n",
        "!python -m spacy download en_core_web_trf"
      ]
    },
    {
      "cell_type": "code",
      "source": [
        "import spacy\n",
        "from spacy.training.example import Example"
      ],
      "metadata": {
        "id": "zZchMaHXf1zU"
      },
      "execution_count": null,
      "outputs": []
    },
    {
      "cell_type": "code",
      "source": [
        "# Load the English language model in spaCy\n",
        "nlp = spacy.load(\"en_core_web_lg\")"
      ],
      "metadata": {
        "id": "cocPPRb3gGKI"
      },
      "execution_count": null,
      "outputs": []
    },
    {
      "cell_type": "code",
      "source": [
        "# Sample text for NER\n",
        "text = \"\"\"As of my last knowledge update in January 2022, I don't have specific information about a company named Boat India.\n",
        "However, I can provide information about boAt Lifestyle, an Indian consumer electronics and audio accessories brand that was well-known at that time.\n",
        "Please note that there might have been developments or changes since then. boAt Lifestyle is known for manufacturing and selling a wide range of audio products,\n",
        "including headphones, earphones, speakers, and other accessories.\n",
        "The company gained popularity for offering affordable yet stylish audio devices, catering to the demands of the youth and tech-savvy consumers in India.\n",
        "They often collaborated with celebrities and influencers for product endorsements and marketing. For the most up-to-date information, it is recommended to check the latest news or visit the official website of\n",
        "boAt Lifestyle or any other specific entity you are referring to as Boat India.\n",
        "World War II (WWII) was a global conflict that lasted from 1939 to 1945, involving the majority of the world's nations.\n",
        "It was the deadliest and most widespread war in human history, with key contributing factors including economic instability, political unrest, and unresolved tensions from World War I.\"\"\""
      ],
      "metadata": {
        "id": "sUdGhpUrgLeI"
      },
      "execution_count": null,
      "outputs": []
    },
    {
      "cell_type": "code",
      "source": [
        "# Process the text with the NLP pipeline\n",
        "doc = nlp(text)"
      ],
      "metadata": {
        "id": "64uKQhjggRhn"
      },
      "execution_count": null,
      "outputs": []
    },
    {
      "cell_type": "code",
      "source": [
        "# Iterate through entities identified in the text and print them\n",
        "for ent in doc.ents:\n",
        "    print(ent.text, ent.label_)"
      ],
      "metadata": {
        "id": "u_5NvYEIgUge"
      },
      "execution_count": null,
      "outputs": []
    },
    {
      "cell_type": "code",
      "source": [
        "doc.ents"
      ],
      "metadata": {
        "id": "TswebgeqgXdf"
      },
      "execution_count": null,
      "outputs": []
    },
    {
      "cell_type": "code",
      "source": [
        "type(doc)"
      ],
      "metadata": {
        "id": "hD73rCoZgfNJ"
      },
      "execution_count": null,
      "outputs": []
    },
    {
      "cell_type": "code",
      "source": [
        "doc.ents[5], type(doc.ents[0])"
      ],
      "metadata": {
        "id": "bL0af8V6gynI"
      },
      "execution_count": null,
      "outputs": []
    },
    {
      "cell_type": "code",
      "source": [
        "\n",
        "from spacy import displacy\n",
        "displacy.render(doc, style=\"ent\", jupyter = True)"
      ],
      "metadata": {
        "id": "-3jyEnc-gooT"
      },
      "execution_count": null,
      "outputs": []
    },
    {
      "cell_type": "markdown",
      "source": [
        "### CREATING NEW NER SPACY"
      ],
      "metadata": {
        "id": "0xe0HEMxQQFq"
      }
    },
    {
      "cell_type": "code",
      "source": [
        "import json #here we are using json file\n",
        "from google.colab import drive\n",
        "drive.mount('/content/drive')\n",
        "\n",
        "#https://www.kaggle.com/datasets/finalepoch/medical-ner\n",
        "path = '/content/drive/MyDrive/NLP/Corona2.json'\n",
        "\n",
        "with open(path, 'r') as file:\n",
        "    data = json.load(file)"
      ],
      "metadata": {
        "id": "dSVggQJxoP-W"
      },
      "execution_count": null,
      "outputs": []
    },
    {
      "cell_type": "code",
      "source": [
        "# Display the content\n",
        "print(data)"
      ],
      "metadata": {
        "id": "-KuqoeEUZL1S"
      },
      "execution_count": null,
      "outputs": []
    },
    {
      "cell_type": "code",
      "source": [
        "data['examples']"
      ],
      "metadata": {
        "id": "5Af0rqKeZsb9"
      },
      "execution_count": null,
      "outputs": []
    },
    {
      "cell_type": "code",
      "source": [
        "data['examples'][0]"
      ],
      "metadata": {
        "id": "YdKnZbE0a-2c"
      },
      "execution_count": null,
      "outputs": []
    },
    {
      "cell_type": "code",
      "source": [
        "data['examples'][0].keys()"
      ],
      "metadata": {
        "id": "fiml-VQcc0_F"
      },
      "execution_count": null,
      "outputs": []
    },
    {
      "cell_type": "code",
      "source": [
        "data['examples'][0]['content']"
      ],
      "metadata": {
        "id": "FyD-DswZc57V"
      },
      "execution_count": null,
      "outputs": []
    },
    {
      "cell_type": "code",
      "source": [
        "data['examples'][0]['annotations'][0]"
      ],
      "metadata": {
        "id": "hg9zBAZRb8zU"
      },
      "execution_count": null,
      "outputs": []
    },
    {
      "cell_type": "code",
      "source": [
        "train_data =[]\n",
        "for example in data['examples']:\n",
        "  temp_dict ={}\n",
        "  temp_dict['text'] = example ['content']\n",
        "  temp_dict['entities']= []\n",
        "  for annotation in example ['annotations']:\n",
        "    start = annotation ['start']\n",
        "    end = annotation ['end']\n",
        "    label = annotation ['tag_name'].upper()\n",
        "    temp_dict['entities'].append((start,end, label))\n",
        "  train_data.append(temp_dict)\n",
        "\n",
        "print(train_data[0])"
      ],
      "metadata": {
        "id": "JdezpBPBca3y"
      },
      "execution_count": null,
      "outputs": []
    },
    {
      "cell_type": "code",
      "source": [
        "train_data[0]['text']"
      ],
      "metadata": {
        "id": "K89uLfdTxutB"
      },
      "execution_count": null,
      "outputs": []
    },
    {
      "cell_type": "code",
      "source": [
        "train_data[0]['entities']"
      ],
      "metadata": {
        "id": "ShMKmv_2yFP0"
      },
      "execution_count": null,
      "outputs": []
    },
    {
      "cell_type": "code",
      "source": [
        "train_data[0]['text'][870 : 880]"
      ],
      "metadata": {
        "id": "lySUhEm5yN93"
      },
      "execution_count": null,
      "outputs": []
    },
    {
      "cell_type": "code",
      "source": [
        "from spacy.tokens import DocBin\n",
        "from tqdm import tqdm\n",
        "\n",
        "#to load new spacy model\n",
        "nlp = spacy.blank(\"en\")\n",
        "doc_bin =DocBin()"
      ],
      "metadata": {
        "id": "AligL2Y5yyYT"
      },
      "execution_count": null,
      "outputs": []
    },
    {
      "cell_type": "code",
      "source": [
        "from spacy.util import filter_spans\n",
        "\n",
        "for train_example in tqdm(train_data):\n",
        "    text = train_example['text']\n",
        "    labels = train_example['entities']\n",
        "    doc= nlp.make_doc(text)\n",
        "    ents=[]\n",
        "    for start, end, label in labels:\n",
        "      span = doc.char_span(start, end, label= label, alignment_mode = \"contract\")\n",
        "      if span is None:\n",
        "        print(\"Skipping Entity\")\n",
        "      else:\n",
        "        ents.append(span)\n",
        "    filtered_ents = filter_spans(ents)\n",
        "    doc.ents = filtered_ents\n",
        "    doc_bin.add(doc)\n",
        "\n",
        "doc_bin.to_disk(\"train.spacy\")"
      ],
      "metadata": {
        "id": "sos19zsWyaXE"
      },
      "execution_count": null,
      "outputs": []
    },
    {
      "cell_type": "code",
      "source": [
        "#https://spacy.io/usage/training#quickstart\n",
        "\n",
        "\n",
        "!python -m spacy init fill-config base_config.cfg config.cfg\n"
      ],
      "metadata": {
        "id": "ru5KtARDynvn"
      },
      "execution_count": null,
      "outputs": []
    },
    {
      "cell_type": "code",
      "source": [
        "!python -m spacy train config.cfg --output ./ --paths.train ./train.spacy --paths.dev ./train.spacy"
      ],
      "metadata": {
        "id": "zc21QaoWAZDI"
      },
      "execution_count": null,
      "outputs": []
    },
    {
      "cell_type": "code",
      "source": [
        "nlp_ner = spacy.load(\"model-best\")"
      ],
      "metadata": {
        "id": "by8aZe4Q4mZJ"
      },
      "execution_count": null,
      "outputs": []
    },
    {
      "cell_type": "code",
      "source": [
        "doc = nlp_ner(text)\n",
        "\n",
        "doc"
      ],
      "metadata": {
        "id": "4BBz_JvmCLag"
      },
      "execution_count": null,
      "outputs": []
    },
    {
      "cell_type": "code",
      "source": [
        "colors = {\"PATHOGEN\": \"#90EE90\", \"MEDICINE\" : \"#FF00FF\", \"MEDICALCONDITION\" : \"#00FFFF\"}\n",
        "options = {\"colors\" : colors}\n",
        "\n",
        "spacy.displacy.render(doc, style=\"ent\", options = options, jupyter = True)"
      ],
      "metadata": {
        "id": "w14TthYoDauw"
      },
      "execution_count": null,
      "outputs": []
    },
    {
      "cell_type": "code",
      "source": [],
      "metadata": {
        "id": "fl0dwqyiFinf"
      },
      "execution_count": null,
      "outputs": []
    }
  ]
}